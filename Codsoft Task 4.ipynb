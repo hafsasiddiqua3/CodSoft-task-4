{
 "cells": [
  {
   "cell_type": "markdown",
   "id": "f878e122",
   "metadata": {},
   "source": [
    "# TASK 4: ROCK-PAPER-SCISSORS GAMES"
   ]
  },
  {
   "cell_type": "code",
   "execution_count": null,
   "id": "7602af37",
   "metadata": {},
   "outputs": [],
   "source": [
    "import random\n",
    "\n",
    "def get_user_choice():\n",
    "    \"\"\"Prompt the user to choose rock, paper, or scissors.\"\"\"\n",
    "    user_choice = input(\"Choose rock, paper, or scissors: \").lower()\n",
    "    while user_choice not in ['rock', 'paper', 'scissors']:\n",
    "        print(\"Invalid choice. Please choose rock, paper, or scissors.\")\n",
    "        user_choice = input(\"Choose rock, paper, or scissors: \").lower()\n",
    "    return user_choice\n",
    "\n",
    "def get_computer_choice():\n",
    "    \"\"\"Generate a random choice (rock, paper, or scissors) for the computer.\"\"\"\n",
    "    return random.choice(['rock', 'paper', 'scissors'])\n",
    "\n",
    "def determine_winner(user_choice, computer_choice):\n",
    "    \"\"\"Determine the winner based on the user's choice and the computer's choice.\"\"\"\n",
    "    if user_choice == computer_choice:\n",
    "        return \"It's a tie!\"\n",
    "    elif (user_choice == 'rock' and computer_choice == 'scissors') or \\\n",
    "         (user_choice == 'scissors' and computer_choice == 'paper') or \\\n",
    "         (user_choice == 'paper' and computer_choice == 'rock'):\n",
    "        return \"You win!\"\n",
    "    else:\n",
    "        return \"You lose!\"\n",
    "\n",
    "def display_result(user_choice, computer_choice, result):\n",
    "    \"\"\"Display the user's choice, the computer's choice, and the result.\"\"\"\n",
    "    print(f\"\\nYour choice: {user_choice}\")\n",
    "    print(f\"Computer's choice: {computer_choice}\")\n",
    "    print(f\"Result: {result}\\n\")\n",
    "\n",
    "def play_game():\n",
    "    \"\"\"Play a single round of the Rock-Paper-Scissors game.\"\"\"\n",
    "    user_choice = get_user_choice()\n",
    "    computer_choice = get_computer_choice()\n",
    "    result = determine_winner(user_choice, computer_choice)\n",
    "    display_result(user_choice, computer_choice, result)\n",
    "    return result\n",
    "\n",
    "def main():\n",
    "    \"\"\"Main function to run the Rock-Paper-Scissors game.\"\"\"\n",
    "    user_score = 0\n",
    "    computer_score = 0\n",
    "\n",
    "    while True:\n",
    "        result = play_game()\n",
    "\n",
    "        if \"win\" in result:\n",
    "            user_score += 1\n",
    "        elif \"lose\" in result:\n",
    "            computer_score += 1\n",
    "\n",
    "        print(f\"Score - You: {user_score}, Computer: {computer_score}\")\n",
    "\n",
    "        play_again = input(\"Do you want to play again? (yes/no): \").lower()\n",
    "        if play_again != 'yes':\n",
    "            print(\"Thanks for playing! Goodbye :)\")\n",
    "            break\n",
    "\n",
    "if __name__ == \"__main__\":\n",
    "    main()\n"
   ]
  }
 ],
 "metadata": {
  "kernelspec": {
   "display_name": "Python 3 (ipykernel)",
   "language": "python",
   "name": "python3"
  },
  "language_info": {
   "codemirror_mode": {
    "name": "ipython",
    "version": 3
   },
   "file_extension": ".py",
   "mimetype": "text/x-python",
   "name": "python",
   "nbconvert_exporter": "python",
   "pygments_lexer": "ipython3",
   "version": "3.11.5"
  }
 },
 "nbformat": 4,
 "nbformat_minor": 5
}
